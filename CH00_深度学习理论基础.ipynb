{
 "cells": [
  {
   "cell_type": "markdown",
   "metadata": {},
   "source": [
    "# 深度学习理论基础"
   ]
  },
  {
   "cell_type": "markdown",
   "metadata": {},
   "source": [
    "## 数学公式"
   ]
  },
  {
   "cell_type": "markdown",
   "metadata": {},
   "source": [
    "[参考](https://github.com/BofengChen/ml_notes/blob/master/CH0_%E6%95%B0%E5%AD%A6%E5%85%AC%E5%BC%8F.ipynb)"
   ]
  },
  {
   "cell_type": "markdown",
   "metadata": {
    "ExecuteTime": {
     "end_time": "2019-02-28T08:22:37.801000Z",
     "start_time": "2019-02-28T08:22:37.787000Z"
    }
   },
   "source": [
    "## 最优化理论"
   ]
  },
  {
   "cell_type": "markdown",
   "metadata": {},
   "source": [
    "[参考](https://github.com/BofengChen/ml_notes/blob/master/CH2_%E6%9C%80%E4%BC%98%E5%8C%96%E7%90%86%E8%AE%BA.ipynb)"
   ]
  },
  {
   "cell_type": "markdown",
   "metadata": {},
   "source": [
    "## 计算图"
   ]
  },
  {
   "cell_type": "markdown",
   "metadata": {},
   "source": [
    "在神经网络中，为了更精确地描述很多运算，我们用下面介绍的**计算图**语言来描述有利于增强认知和理解。"
   ]
  },
  {
   "cell_type": "markdown",
   "metadata": {},
   "source": [
    "将计算形式化为图形的方法很多，我们下面介绍**变量、操作、有向边**三个概念：\n",
    "\n",
    "\n",
    "1. **变量**:我们使用图中的一个节点来表示一个**变量**，变量可以是**标量、向量、矩阵、张量甚至是另一个类型的变量**；\n",
    "\n",
    "2. **操作**:指的是拥有一个或者多个变量的简单函数。我们可以通过多个操作复合在一起来描述更复杂的函数；\n",
    "\n",
    "3. **有向边**:如果变量 y 是变量 x 通过一个操作计算得到的，我们画一条从 x 到 y 的**有向边**。\n",
    "\n",
    "\n",
    "不失一般性，我们定义一个操作仅返回单个输出变量(输出变量可以是很多数学类型)。在图中，我们用节点来表示变量，在节点的旁边用操作来注释说明从其父节点到该节点的操作。"
   ]
  },
  {
   "cell_type": "markdown",
   "metadata": {},
   "source": [
    "下面我们给出几个示例。"
   ]
  },
  {
   "cell_type": "markdown",
   "metadata": {},
   "source": [
    "<img src=\"figure/jisuan.jpg\" width=\"500\" hegiht=\"400\" align=left />"
   ]
  },
  {
   "cell_type": "markdown",
   "metadata": {},
   "source": [
    "示例(a)-(d)计算图对应的最终函数表达式为：\n",
    "\n",
    "$$\\begin{split}\n",
    "&(a) \\quad z=xy\\\\\n",
    "&(b) \\quad \\hat{y}=\\sigma(\\mathbf{x}^T\\mathbf{w}+b)\\\\\n",
    "&(c) \\quad H=\\max\\{0,\\mathbf{X}\\mathbf{W}+\\mathbf{b}\\}\\\\\n",
    "&(d) \\quad u^{(3)}=\\lambda\\sum_i w_i^2\n",
    "\\end{split}$$"
   ]
  },
  {
   "cell_type": "code",
   "execution_count": null,
   "metadata": {},
   "outputs": [],
   "source": []
  }
 ],
 "metadata": {
  "kernelspec": {
   "display_name": "Python 2",
   "language": "python",
   "name": "python2"
  },
  "language_info": {
   "codemirror_mode": {
    "name": "ipython",
    "version": 2
   },
   "file_extension": ".py",
   "mimetype": "text/x-python",
   "name": "python",
   "nbconvert_exporter": "python",
   "pygments_lexer": "ipython2",
   "version": "2.7.14"
  },
  "toc": {
   "base_numbering": 1,
   "nav_menu": {},
   "number_sections": true,
   "sideBar": true,
   "skip_h1_title": false,
   "title_cell": "Table of Contents",
   "title_sidebar": "Contents",
   "toc_cell": false,
   "toc_position": {},
   "toc_section_display": true,
   "toc_window_display": true
  }
 },
 "nbformat": 4,
 "nbformat_minor": 2
}
